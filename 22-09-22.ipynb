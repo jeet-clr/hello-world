{
 "cells": [
  {
   "cell_type": "code",
   "execution_count": 2,
   "id": "b3f03005",
   "metadata": {},
   "outputs": [
    {
     "name": "stdout",
     "output_type": "stream",
     "text": [
      "i7\n"
     ]
    }
   ],
   "source": [
    "class computer:\n",
    "    def config(self):\n",
    "        print('i7')\n",
    "        \n",
    "com1=computer()\n",
    "#print(type(com1))\n",
    "com1.config()"
   ]
  },
  {
   "cell_type": "code",
   "execution_count": 4,
   "id": "5aac9de8",
   "metadata": {},
   "outputs": [
    {
     "name": "stdout",
     "output_type": "stream",
     "text": [
      "i7\n"
     ]
    }
   ],
   "source": [
    "class computer:\n",
    "    def config(self):\n",
    "        print('i7')\n",
    "        \n",
    "com1=computer()\n",
    "#print(type(com1))\n",
    "computer.config(com1)"
   ]
  },
  {
   "cell_type": "code",
   "execution_count": 5,
   "id": "d020b7dd",
   "metadata": {},
   "outputs": [
    {
     "name": "stdout",
     "output_type": "stream",
     "text": [
      "i7\n",
      "i7\n"
     ]
    }
   ],
   "source": [
    "class computer:\n",
    "    def config(self):\n",
    "        print('i7')\n",
    "        \n",
    "com1=computer()\n",
    "com2=computer()\n",
    "#print(type(com1))\n",
    "computer.config(com1)\n",
    "computer.config(com2)"
   ]
  },
  {
   "cell_type": "code",
   "execution_count": 11,
   "id": "3e2631dd",
   "metadata": {},
   "outputs": [
    {
     "name": "stdout",
     "output_type": "stream",
     "text": [
      "i7\n",
      "i7\n"
     ]
    }
   ],
   "source": [
    "class computer:\n",
    "    def config(self):\n",
    "        print('i7')\n",
    "        \n",
    "com1=computer()\n",
    "com2=computer()\n",
    "#print(type(com1))\n",
    "com1.config()\n",
    "com2.config()"
   ]
  },
  {
   "cell_type": "markdown",
   "id": "2ea2e062",
   "metadata": {},
   "source": [
    "# INIT in Python"
   ]
  },
  {
   "cell_type": "code",
   "execution_count": 12,
   "id": "b7b86227",
   "metadata": {},
   "outputs": [
    {
     "name": "stdout",
     "output_type": "stream",
     "text": [
      "__main__\n"
     ]
    }
   ],
   "source": [
    "print(__name__)"
   ]
  },
  {
   "cell_type": "code",
   "execution_count": 21,
   "id": "d8cc95d7",
   "metadata": {},
   "outputs": [
    {
     "name": "stdout",
     "output_type": "stream",
     "text": [
      "Config is i3 12\n",
      "Config is i5 16\n"
     ]
    }
   ],
   "source": [
    "class computer:\n",
    "    def __init__(self,cpu,ram):\n",
    "        self.cpu=cpu\n",
    "        self.ram=ram\n",
    "    def config(self):\n",
    "        print('Config is',self.cpu,self.ram)\n",
    "        \n",
    "com1=computer(\"i3\",12)\n",
    "com2=computer(\"i5\",16)\n",
    "#print(type(com1))\n",
    "com1.config()\n",
    "com2.config()"
   ]
  },
  {
   "cell_type": "code",
   "execution_count": 38,
   "id": "48fe4c3d",
   "metadata": {},
   "outputs": [
    {
     "name": "stdout",
     "output_type": "stream",
     "text": [
      "it is init method\n",
      "i7\n"
     ]
    }
   ],
   "source": [
    "class computer:\n",
    "    def __init__(self):\n",
    "        print(\"it is init method\")\n",
    "    def config(self):\n",
    "        print('i7')\n",
    "        \n",
    "com1=computer()\n",
    "#com2=computer()\n",
    "#print(type(com1))\n",
    "com1.config()\n",
    "#com2.config()"
   ]
  },
  {
   "cell_type": "markdown",
   "id": "2a29971f",
   "metadata": {},
   "source": [
    "# Inheritance and Multiple Inheritance"
   ]
  },
  {
   "cell_type": "code",
   "execution_count": 32,
   "id": "72ea7434",
   "metadata": {},
   "outputs": [
    {
     "name": "stdout",
     "output_type": "stream",
     "text": [
      " feature 1 working\n",
      " feature 2 working\n",
      " feature 3 working\n",
      " feature 4 working\n",
      " feature 1 working\n",
      " feature 2 working\n",
      " feature 5 working\n",
      " feature 6 working\n",
      " feature 1 working\n",
      " feature 2 working\n",
      " feature 3 working\n",
      " feature 4 working\n"
     ]
    }
   ],
   "source": [
    "class A:\n",
    "    def feature1(self):\n",
    "        print(\" feature 1 working\")\n",
    "    def feature2(self):\n",
    "        print(\" feature 2 working\")\n",
    "        \n",
    "class B(A):\n",
    "    def feature3(self):\n",
    "        print(\" feature 3 working\")\n",
    "    def feature4(self):\n",
    "        print(\" feature 4 working\")\n",
    "        \n",
    "class C(B):\n",
    "    def feature5(self):\n",
    "        print(\" feature 5 working\")\n",
    "    def feature6(self):\n",
    "        print(\" feature 6 working\")\n",
    "    \n",
    "    \n",
    "a1=A()\n",
    "a1.feature1()\n",
    "a1.feature2()\n",
    "\n",
    "b1=B()\n",
    "b1.feature3()\n",
    "b1.feature4()\n",
    "b1.feature1()\n",
    "b1.feature2()\n",
    "\n",
    "c1=C()\n",
    "c1.feature5()\n",
    "c1.feature6()\n",
    "c1.feature1()\n",
    "c1.feature2()\n",
    "c1.feature3()\n",
    "c1.feature4()\n",
    "\n"
   ]
  },
  {
   "cell_type": "code",
   "execution_count": 39,
   "id": "9a92fe85",
   "metadata": {},
   "outputs": [
    {
     "name": "stdout",
     "output_type": "stream",
     "text": [
      " feature 1 working\n",
      " feature 2 working\n",
      " feature 3 working\n",
      " feature 4 working\n",
      " feature 5 working\n",
      " feature 6 working\n",
      " feature 1 working\n",
      " feature 2 working\n",
      " feature 3 working\n",
      " feature 4 working\n"
     ]
    }
   ],
   "source": [
    "class A:\n",
    "    def feature1(self):\n",
    "        print(\" feature 1 working\")\n",
    "    def feature2(self):\n",
    "        print(\" feature 2 working\")\n",
    "        \n",
    "class B:\n",
    "    def feature3(self):\n",
    "        print(\" feature 3 working\")\n",
    "    def feature4(self):\n",
    "        print(\" feature 4 working\")\n",
    "        \n",
    "class C(A,B):\n",
    "    def feature5(self):\n",
    "        print(\" feature 5 working\")\n",
    "    def feature6(self):\n",
    "        print(\" feature 6 working\")\n",
    "    \n",
    "    \n",
    "a1=A()\n",
    "a1.feature1()\n",
    "a1.feature2()\n",
    "a1.feature1\n",
    "b1=B()\n",
    "b1.feature3()\n",
    "b1.feature4()\n",
    "\n",
    "\n",
    "\n",
    "c1=C()\n",
    "c1.feature5()\n",
    "c1.feature6()\n",
    "c1.feature1()\n",
    "c1.feature2()\n",
    "c1.feature3()\n",
    "c1.feature4()\n",
    "\n"
   ]
  },
  {
   "cell_type": "markdown",
   "id": "0805512e",
   "metadata": {},
   "source": [
    "# Method Overloading and Overriding"
   ]
  },
  {
   "cell_type": "code",
   "execution_count": 44,
   "id": "69b2081d",
   "metadata": {},
   "outputs": [
    {
     "name": "stdout",
     "output_type": "stream",
     "text": [
      "8\n"
     ]
    }
   ],
   "source": [
    "class student:\n",
    "    def __init__(self,m1,m2):\n",
    "        self.m1=m1\n",
    "        self.m2=m2\n",
    "    def sum(self,a,b):\n",
    "        s=a+b\n",
    "        return s\n",
    "\n",
    "s1=student(1,2)\n",
    "print(s1.sum(5,3))"
   ]
  },
  {
   "cell_type": "code",
   "execution_count": 47,
   "id": "a95f6b60",
   "metadata": {},
   "outputs": [
    {
     "ename": "TypeError",
     "evalue": "sum() missing 1 required positional argument: 'c'",
     "output_type": "error",
     "traceback": [
      "\u001b[1;31m---------------------------------------------------------------------------\u001b[0m",
      "\u001b[1;31mTypeError\u001b[0m                                 Traceback (most recent call last)",
      "Input \u001b[1;32mIn [47]\u001b[0m, in \u001b[0;36m<cell line: 10>\u001b[1;34m()\u001b[0m\n\u001b[0;32m      7\u001b[0m         \u001b[38;5;28;01mreturn\u001b[39;00m s\n\u001b[0;32m      9\u001b[0m s1\u001b[38;5;241m=\u001b[39mstudent(\u001b[38;5;241m1\u001b[39m,\u001b[38;5;241m2\u001b[39m)\n\u001b[1;32m---> 10\u001b[0m \u001b[38;5;28mprint\u001b[39m(\u001b[43ms1\u001b[49m\u001b[38;5;241;43m.\u001b[39;49m\u001b[43msum\u001b[49m\u001b[43m(\u001b[49m\u001b[38;5;241;43m5\u001b[39;49m\u001b[43m,\u001b[49m\u001b[38;5;241;43m3\u001b[39;49m\u001b[43m)\u001b[49m)\n",
      "\u001b[1;31mTypeError\u001b[0m: sum() missing 1 required positional argument: 'c'"
     ]
    }
   ],
   "source": [
    "class student:\n",
    "    def __init__(self,m1,m2):\n",
    "        self.m1=m1\n",
    "        self.m2=m2\n",
    "    def sum(self,a,b,c):\n",
    "        s=a+b+c\n",
    "        return s\n",
    "\n",
    "s1=student(1,2)\n",
    "print(s1.sum(5,3))"
   ]
  },
  {
   "cell_type": "code",
   "execution_count": 52,
   "id": "4e694726",
   "metadata": {},
   "outputs": [
    {
     "name": "stdout",
     "output_type": "stream",
     "text": [
      "8\n"
     ]
    }
   ],
   "source": [
    "class student:\n",
    "    def __init__(self,m1,m2):\n",
    "        self.m1=m1\n",
    "        self.m2=m2\n",
    "    def sum(self,a=None,b=None,c=None):\n",
    "        s=0\n",
    "        if a!=None and b!=None and c!=None:\n",
    "            s=a+b+c\n",
    "        elif a!=None and b!=None:\n",
    "            s=a+b\n",
    "        else:\n",
    "            s=a\n",
    "        return s\n",
    "\n",
    "s1=student(1,2)\n",
    "print(s1.sum(5,3))"
   ]
  },
  {
   "cell_type": "code",
   "execution_count": 52,
   "id": "3e52aa5f",
   "metadata": {},
   "outputs": [
    {
     "name": "stdout",
     "output_type": "stream",
     "text": [
      "8\n"
     ]
    }
   ],
   "source": [
    "class student:\n",
    "    def __init__(self,m1,m2):\n",
    "        self.m1=m1\n",
    "        self.m2=m2\n",
    "    def sum(self,a=None,b=None,c=None):\n",
    "        s=0\n",
    "        if a!=None and b!=None and c!=None:\n",
    "            s=a+b+c\n",
    "        elif a!=None and b!=None:\n",
    "            s=a+b\n",
    "        else:\n",
    "            s=a\n",
    "        return s\n",
    "\n",
    "s1=student(1,2)\n",
    "print(s1.sum(5,3))"
   ]
  },
  {
   "cell_type": "code",
   "execution_count": 54,
   "id": "ede70b53",
   "metadata": {},
   "outputs": [
    {
     "name": "stdout",
     "output_type": "stream",
     "text": [
      "6\n"
     ]
    }
   ],
   "source": [
    "class student:\n",
    "    def __init__(self,m1,m2):\n",
    "        self.m1=m1\n",
    "        self.m2=m2\n",
    "    def sum(self):\n",
    "        s=self.m1+self.m2\n",
    "        return s\n",
    "    \n",
    "st=student(5,1)\n",
    "print(st.sum())\n"
   ]
  },
  {
   "cell_type": "code",
   "execution_count": null,
   "id": "bd7ed07a",
   "metadata": {},
   "outputs": [],
   "source": []
  },
  {
   "cell_type": "code",
   "execution_count": null,
   "id": "a9986e35",
   "metadata": {},
   "outputs": [],
   "source": []
  },
  {
   "cell_type": "code",
   "execution_count": 55,
   "id": "e554bd80",
   "metadata": {},
   "outputs": [
    {
     "name": "stdout",
     "output_type": "stream",
     "text": [
      "in A show\n"
     ]
    }
   ],
   "source": [
    "class A:\n",
    "    def show(self):\n",
    "        print('in A show')\n",
    "        \n",
    "class B:\n",
    "    pass\n",
    "\n",
    "a1=A()\n",
    "a1.show()"
   ]
  },
  {
   "cell_type": "code",
   "execution_count": 56,
   "id": "362612fc",
   "metadata": {},
   "outputs": [
    {
     "ename": "AttributeError",
     "evalue": "'B' object has no attribute 'show'",
     "output_type": "error",
     "traceback": [
      "\u001b[1;31m---------------------------------------------------------------------------\u001b[0m",
      "\u001b[1;31mAttributeError\u001b[0m                            Traceback (most recent call last)",
      "Input \u001b[1;32mIn [56]\u001b[0m, in \u001b[0;36m<cell line: 9>\u001b[1;34m()\u001b[0m\n\u001b[0;32m      6\u001b[0m     \u001b[38;5;28;01mpass\u001b[39;00m\n\u001b[0;32m      8\u001b[0m a1\u001b[38;5;241m=\u001b[39mB()\n\u001b[1;32m----> 9\u001b[0m \u001b[43ma1\u001b[49m\u001b[38;5;241;43m.\u001b[39;49m\u001b[43mshow\u001b[49m()\n",
      "\u001b[1;31mAttributeError\u001b[0m: 'B' object has no attribute 'show'"
     ]
    }
   ],
   "source": [
    "class A:\n",
    "    def show(self):\n",
    "        print('in A show')\n",
    "        \n",
    "class B:\n",
    "    pass\n",
    "\n",
    "a1=B()\n",
    "a1.show()"
   ]
  },
  {
   "cell_type": "code",
   "execution_count": 59,
   "id": "c05c2825",
   "metadata": {},
   "outputs": [
    {
     "name": "stdout",
     "output_type": "stream",
     "text": [
      "in A show\n"
     ]
    }
   ],
   "source": [
    "class A:\n",
    "    def show(self):\n",
    "        print('in A show')\n",
    "        \n",
    "class B(A): #inheritance\n",
    "    pass\n",
    "\n",
    "a1=B()\n",
    "a1.show()"
   ]
  },
  {
   "cell_type": "code",
   "execution_count": null,
   "id": "bb42ba0a",
   "metadata": {},
   "outputs": [],
   "source": []
  },
  {
   "cell_type": "markdown",
   "id": "46030049",
   "metadata": {},
   "source": [
    "# strings revision\n"
   ]
  },
  {
   "cell_type": "code",
   "execution_count": 67,
   "id": "d8d8ba0b",
   "metadata": {},
   "outputs": [
    {
     "name": "stdout",
     "output_type": "stream",
     "text": [
      "piper\n",
      "ppr\n",
      "piper\n",
      "Peter piper\n",
      "piper picked a peck of pickled peppers.\n",
      "Peter piper picked a peck of pickled peppers.\n",
      "Ptrpprpce  eko ike epr.\n",
      "Pepepk pkfil pr\n",
      "Prppe k k p.\n",
      "\n"
     ]
    }
   ],
   "source": [
    "my_str = 'Peter piper picked a peck of pickled peppers.'\n",
    "print(my_str[6:11:1])\n",
    "print(my_str[6:11:2])\n",
    "print(my_str[6:11])\n",
    "print(my_str[:11])\n",
    "print(my_str[6:])\n",
    "print(my_str[::])\n",
    "print(my_str[::2])\n",
    "print(my_str[::3])\n",
    "print(my_str[::4])\n",
    "print(my_str[11:6:1])\n"
   ]
  },
  {
   "cell_type": "code",
   "execution_count": 64,
   "id": "b50b7f6a",
   "metadata": {},
   "outputs": [
    {
     "name": "stdout",
     "output_type": "stream",
     "text": [
      "sreppep delkcip fo kcep a dekcip repip reteP\n",
      "seppdlcpf cpadki ei ee\n",
      "sppec  eaeirire\n",
      "sreppep delkcip fo kcep a dekcip\n",
      "\n",
      " repi\n",
      "ep delkcip f\n"
     ]
    }
   ],
   "source": [
    "#reverse string\n",
    "# With -ve step value\n",
    "my_str = 'Peter piper picked a peck of pickled peppers'\n",
    "print(my_str[::-1])\n",
    "print(my_str[::-2])\n",
    "print(my_str[::-3])\n",
    "print(my_str[:11:-1])  #give backward direction till 11\n",
    "print(my_str[6:11:-1])\n",
    "print(my_str[11:6:-1])\n",
    "print(my_str[-6:-18:-1])\n"
   ]
  },
  {
   "cell_type": "code",
   "execution_count": 74,
   "id": "e9d9c508",
   "metadata": {},
   "outputs": [
    {
     "name": "stdout",
     "output_type": "stream",
     "text": [
      "Peter Piper Picked A Peck Of Pickled Peppers.\n",
      "pETER pIPER pICKED a pECK oF pICKLED pEPPERS.\n"
     ]
    }
   ],
   "source": [
    "my_str= 'peter piper picked a peck of pickled peppers.'\n",
    "new_string=my_str.title()\n",
    "print(new_string)\n",
    "print(new_string.swapcase())\n"
   ]
  },
  {
   "cell_type": "code",
   "execution_count": null,
   "id": "efd7c53b",
   "metadata": {},
   "outputs": [],
   "source": []
  },
  {
   "cell_type": "code",
   "execution_count": 80,
   "id": "6bc21cc7",
   "metadata": {},
   "outputs": [
    {
     "name": "stdout",
     "output_type": "stream",
     "text": [
      "False\n",
      "[1, 2, [3, 4]]\n",
      "[1, 2, [3, 4]]\n"
     ]
    }
   ],
   "source": [
    "l1=[1,2,[3,4]]\n",
    "l2=l1.copy()\n",
    "print(l1 is l2)\n",
    "print(l1)\n",
    "print(l2)"
   ]
  },
  {
   "cell_type": "code",
   "execution_count": 82,
   "id": "0342eb41",
   "metadata": {},
   "outputs": [
    {
     "name": "stdout",
     "output_type": "stream",
     "text": [
      "[1, 2, [3, 40]]\n",
      "[1, 2, [3, 40]]\n"
     ]
    }
   ],
   "source": [
    "l2[2][1]=40\n",
    "print(l1)\n",
    "print(l2)"
   ]
  },
  {
   "cell_type": "code",
   "execution_count": 84,
   "id": "b5e24639",
   "metadata": {},
   "outputs": [
    {
     "data": {
      "text/plain": [
       "{1: 100, '1': 'python', 10.2: (10+20j)}"
      ]
     },
     "execution_count": 84,
     "metadata": {},
     "output_type": "execute_result"
    }
   ],
   "source": [
    "d= dict([(1,100),('1','python'),(10.20,10+20j)])\n",
    "d"
   ]
  },
  {
   "cell_type": "code",
   "execution_count": 85,
   "id": "4143cb81",
   "metadata": {},
   "outputs": [
    {
     "data": {
      "text/plain": [
       "{'a': 100, 'b': 'pot', 'c': [1, 2, 3]}"
      ]
     },
     "execution_count": 85,
     "metadata": {},
     "output_type": "execute_result"
    }
   ],
   "source": [
    "d= dict(zip(['a','b','c'],[100,'pot',[1,2,3]]))\n",
    "d"
   ]
  },
  {
   "cell_type": "code",
   "execution_count": 86,
   "id": "95ac4ae8",
   "metadata": {},
   "outputs": [
    {
     "data": {
      "text/plain": [
       "{0: 2, 1: 3, 2: 4}"
      ]
     },
     "execution_count": 86,
     "metadata": {},
     "output_type": "execute_result"
    }
   ],
   "source": [
    "l=[2,3,4]\n",
    "dict(enumerate(l))"
   ]
  },
  {
   "cell_type": "code",
   "execution_count": 96,
   "id": "158703d1",
   "metadata": {},
   "outputs": [
    {
     "data": {
      "text/plain": [
       "dict"
      ]
     },
     "execution_count": 96,
     "metadata": {},
     "output_type": "execute_result"
    }
   ],
   "source": [
    "d={}\n",
    "type(d)"
   ]
  },
  {
   "cell_type": "code",
   "execution_count": 97,
   "id": "afe0d66d",
   "metadata": {},
   "outputs": [
    {
     "data": {
      "text/plain": [
       "list"
      ]
     },
     "execution_count": 97,
     "metadata": {},
     "output_type": "execute_result"
    }
   ],
   "source": [
    "d=[]\n",
    "type(d)"
   ]
  },
  {
   "cell_type": "code",
   "execution_count": 98,
   "id": "c725ad03",
   "metadata": {},
   "outputs": [
    {
     "data": {
      "text/plain": [
       "set"
      ]
     },
     "execution_count": 98,
     "metadata": {},
     "output_type": "execute_result"
    }
   ],
   "source": [
    "d=set()\n",
    "type(d)"
   ]
  },
  {
   "cell_type": "code",
   "execution_count": 100,
   "id": "33f50f34",
   "metadata": {},
   "outputs": [
    {
     "data": {
      "text/plain": [
       "tuple"
      ]
     },
     "execution_count": 100,
     "metadata": {},
     "output_type": "execute_result"
    }
   ],
   "source": [
    "d=()\n",
    "type(d)"
   ]
  },
  {
   "cell_type": "code",
   "execution_count": null,
   "id": "62d8d9a3",
   "metadata": {},
   "outputs": [],
   "source": []
  },
  {
   "cell_type": "code",
   "execution_count": 119,
   "id": "c69e4808",
   "metadata": {},
   "outputs": [
    {
     "name": "stdout",
     "output_type": "stream",
     "text": [
      "100\n",
      "None\n",
      "this key not present\n",
      "pot\n"
     ]
    }
   ],
   "source": [
    "d={'a': 100, 'b': 'pot', 'c': [1, 2, 3,]}\n",
    "print(d.get('a'))\n",
    "print(d.get('e'))\n",
    "print(d.get('e','this key not present'))\n",
    "print(d.get('b','this key is present'))"
   ]
  },
  {
   "cell_type": "code",
   "execution_count": null,
   "id": "0b07443a",
   "metadata": {},
   "outputs": [],
   "source": []
  },
  {
   "cell_type": "code",
   "execution_count": 116,
   "id": "4da7a54e",
   "metadata": {},
   "outputs": [],
   "source": [
    "import copy\n",
    "'''\n",
    "'''\n",
    "dict = copy.deepcopy(dict)\n",
    "\n",
    "from copy import deepcopy\n"
   ]
  },
  {
   "cell_type": "code",
   "execution_count": 120,
   "id": "e20801d7",
   "metadata": {},
   "outputs": [],
   "source": [
    "d={'a': 100, 'b': 'pot', 'c': [1, 2, 3,[4,5]]}\n",
    "newd=d.copy()\n"
   ]
  },
  {
   "cell_type": "code",
   "execution_count": 121,
   "id": "67b99595",
   "metadata": {},
   "outputs": [
    {
     "name": "stdout",
     "output_type": "stream",
     "text": [
      "{'a': 100, 'b': 'pot', 'c': [1, 2, 3, [4, 5]]}\n",
      "{'a': 100, 'b': 'pot', 'c': [1, 2, 3, [4, 5]]}\n"
     ]
    }
   ],
   "source": [
    "print(newd)\n",
    "print(d)"
   ]
  },
  {
   "cell_type": "code",
   "execution_count": 122,
   "id": "5741965c",
   "metadata": {},
   "outputs": [],
   "source": [
    "newd['a']=300"
   ]
  },
  {
   "cell_type": "code",
   "execution_count": 123,
   "id": "042224c6",
   "metadata": {},
   "outputs": [
    {
     "name": "stdout",
     "output_type": "stream",
     "text": [
      "{'a': 300, 'b': 'pot', 'c': [1, 2, 3, [4, 5]]}\n",
      "{'a': 100, 'b': 'pot', 'c': [1, 2, 3, [4, 5]]}\n"
     ]
    }
   ],
   "source": [
    "print(newd)\n",
    "print(d)#shallow copy"
   ]
  },
  {
   "cell_type": "code",
   "execution_count": 124,
   "id": "d0e87f98",
   "metadata": {},
   "outputs": [],
   "source": [
    "newd['c'][3][1]=45"
   ]
  },
  {
   "cell_type": "code",
   "execution_count": 126,
   "id": "8dd62b44",
   "metadata": {},
   "outputs": [
    {
     "name": "stdout",
     "output_type": "stream",
     "text": [
      "{'a': 300, 'b': 'pot', 'c': [1, 2, 3, [4, 45]]}\n",
      "{'a': 100, 'b': 'pot', 'c': [1, 2, 3, [4, 45]]}\n"
     ]
    }
   ],
   "source": [
    "print(newd)\n",
    "print(d)#deep copy"
   ]
  },
  {
   "cell_type": "code",
   "execution_count": null,
   "id": "487c58d2",
   "metadata": {},
   "outputs": [],
   "source": []
  },
  {
   "cell_type": "code",
   "execution_count": 132,
   "id": "d8234ea0",
   "metadata": {},
   "outputs": [
    {
     "name": "stdout",
     "output_type": "stream",
     "text": [
      "['__and__', '__class__', '__class_getitem__', '__contains__', '__delattr__', '__dir__', '__doc__', '__eq__', '__format__', '__ge__', '__getattribute__', '__gt__', '__hash__', '__iand__', '__init__', '__init_subclass__', '__ior__', '__isub__', '__iter__', '__ixor__', '__le__', '__len__', '__lt__', '__ne__', '__new__', '__or__', '__rand__', '__reduce__', '__reduce_ex__', '__repr__', '__ror__', '__rsub__', '__rxor__', '__setattr__', '__sizeof__', '__str__', '__sub__', '__subclasshook__', '__xor__', 'add', 'clear', 'copy', 'difference', 'difference_update', 'discard', 'intersection', 'intersection_update', 'isdisjoint', 'issubset', 'issuperset', 'pop', 'remove', 'symmetric_difference', 'symmetric_difference_update', 'union', 'update']\n"
     ]
    }
   ],
   "source": [
    "print(dir(set))"
   ]
  },
  {
   "cell_type": "code",
   "execution_count": 127,
   "id": "6501551b",
   "metadata": {},
   "outputs": [
    {
     "name": "stdout",
     "output_type": "stream",
     "text": [
      "{1, 2, 4, 5}\n"
     ]
    }
   ],
   "source": [
    "a={1,2,3,4,5}\n",
    "b={3,23,56,6}\n",
    "print(a.difference(b))"
   ]
  },
  {
   "cell_type": "code",
   "execution_count": 128,
   "id": "6e8a7095",
   "metadata": {},
   "outputs": [
    {
     "name": "stdout",
     "output_type": "stream",
     "text": [
      "{3}\n"
     ]
    }
   ],
   "source": [
    "a={1,2,3,4,5}\n",
    "b={3,23,56,6}\n",
    "print(a.intersection(b))"
   ]
  },
  {
   "cell_type": "code",
   "execution_count": 129,
   "id": "1237c8f4",
   "metadata": {},
   "outputs": [
    {
     "name": "stdout",
     "output_type": "stream",
     "text": [
      "{1, 2, 3, 4, 5, 6, 23, 56}\n"
     ]
    }
   ],
   "source": [
    "a={1,2,3,4,5}\n",
    "b={3,23,56,6}\n",
    "print(a.union(b))"
   ]
  },
  {
   "cell_type": "code",
   "execution_count": 131,
   "id": "2726bbfd",
   "metadata": {},
   "outputs": [
    {
     "name": "stdout",
     "output_type": "stream",
     "text": [
      "{1, 2, 3, 4, 5}\n"
     ]
    }
   ],
   "source": [
    "a={1,2,3,4,5}\n",
    "b=a.copy()\n",
    "print(b)"
   ]
  },
  {
   "cell_type": "code",
   "execution_count": 139,
   "id": "4bd3ae88",
   "metadata": {},
   "outputs": [
    {
     "name": "stdout",
     "output_type": "stream",
     "text": [
      "None\n"
     ]
    }
   ],
   "source": [
    "a={\"go\",\"hi\"}\n",
    "b={\"go\",\"bye\"}\n",
    "c=a.symmetric_difference_update(b)\n",
    "print(c)"
   ]
  },
  {
   "cell_type": "code",
   "execution_count": 143,
   "id": "ca8e4268",
   "metadata": {},
   "outputs": [
    {
     "name": "stdout",
     "output_type": "stream",
     "text": [
      "True\n"
     ]
    }
   ],
   "source": [
    "a={1,2,3,4,5}\n",
    "b={3}\n",
    "print(b.issubset(a))"
   ]
  },
  {
   "cell_type": "code",
   "execution_count": null,
   "id": "3200f5d2",
   "metadata": {},
   "outputs": [],
   "source": []
  },
  {
   "cell_type": "code",
   "execution_count": null,
   "id": "5d3cba78",
   "metadata": {},
   "outputs": [],
   "source": []
  },
  {
   "cell_type": "markdown",
   "id": "a5bbd065",
   "metadata": {},
   "source": [
    "# Types of methods"
   ]
  },
  {
   "cell_type": "code",
   "execution_count": 162,
   "id": "5109eac9",
   "metadata": {},
   "outputs": [
    {
     "name": "stdout",
     "output_type": "stream",
     "text": [
      "33.333333333333336\n",
      "22.333333333333332\n",
      "KVS\n"
     ]
    }
   ],
   "source": [
    "class students:\n",
    "    school='KVS'\n",
    "    def __init__(self,n1,n2,n3):\n",
    "        self.n1=n1\n",
    "        self.n2=n2\n",
    "        self.n3=n3\n",
    "    def avg(self): #instance method\n",
    "        return (self.n1+self.n2+self.n3)/3\n",
    "    \n",
    "#     def get_n1(self):\n",
    "#         return self.n1\n",
    "#     def get_n2(self,value):\n",
    "#         self.n2=value\n",
    "\n",
    "    @classmethod\n",
    "    def info(cls):\n",
    "        return cls.school\n",
    "            \n",
    "s1=students(22,34,44)\n",
    "s2=students(22,1,44)\n",
    "\n",
    "print(s1.avg())\n",
    "print(s2.avg())\n",
    "\n",
    "# print(s1.info()) or use @classmethod for below\n",
    "print(students.info())"
   ]
  },
  {
   "cell_type": "code",
   "execution_count": null,
   "id": "9a91670a",
   "metadata": {},
   "outputs": [],
   "source": []
  },
  {
   "cell_type": "code",
   "execution_count": null,
   "id": "dc00246d",
   "metadata": {},
   "outputs": [],
   "source": []
  },
  {
   "cell_type": "code",
   "execution_count": null,
   "id": "298ec190",
   "metadata": {},
   "outputs": [],
   "source": []
  },
  {
   "cell_type": "code",
   "execution_count": null,
   "id": "d017583a",
   "metadata": {},
   "outputs": [],
   "source": []
  },
  {
   "cell_type": "code",
   "execution_count": null,
   "id": "c9c27dab",
   "metadata": {},
   "outputs": [],
   "source": []
  },
  {
   "cell_type": "code",
   "execution_count": null,
   "id": "7c720b43",
   "metadata": {},
   "outputs": [],
   "source": []
  },
  {
   "cell_type": "code",
   "execution_count": null,
   "id": "583420d0",
   "metadata": {},
   "outputs": [],
   "source": []
  },
  {
   "cell_type": "code",
   "execution_count": null,
   "id": "1b15258c",
   "metadata": {},
   "outputs": [],
   "source": []
  },
  {
   "cell_type": "code",
   "execution_count": null,
   "id": "2f61b3ad",
   "metadata": {},
   "outputs": [],
   "source": []
  },
  {
   "cell_type": "code",
   "execution_count": null,
   "id": "946193af",
   "metadata": {},
   "outputs": [],
   "source": []
  },
  {
   "cell_type": "code",
   "execution_count": null,
   "id": "732d1566",
   "metadata": {},
   "outputs": [],
   "source": []
  },
  {
   "cell_type": "code",
   "execution_count": null,
   "id": "039a060e",
   "metadata": {},
   "outputs": [],
   "source": []
  },
  {
   "cell_type": "code",
   "execution_count": null,
   "id": "ec47f304",
   "metadata": {},
   "outputs": [],
   "source": []
  },
  {
   "cell_type": "code",
   "execution_count": null,
   "id": "6774b75c",
   "metadata": {},
   "outputs": [],
   "source": []
  },
  {
   "cell_type": "code",
   "execution_count": null,
   "id": "2b7e5ed3",
   "metadata": {},
   "outputs": [],
   "source": []
  },
  {
   "cell_type": "code",
   "execution_count": null,
   "id": "78a570db",
   "metadata": {},
   "outputs": [],
   "source": []
  },
  {
   "cell_type": "code",
   "execution_count": null,
   "id": "1816dd0c",
   "metadata": {},
   "outputs": [],
   "source": []
  },
  {
   "cell_type": "code",
   "execution_count": null,
   "id": "390a066d",
   "metadata": {},
   "outputs": [],
   "source": []
  },
  {
   "cell_type": "code",
   "execution_count": null,
   "id": "e01715f1",
   "metadata": {},
   "outputs": [],
   "source": []
  },
  {
   "cell_type": "code",
   "execution_count": null,
   "id": "e56c5eab",
   "metadata": {},
   "outputs": [],
   "source": []
  },
  {
   "cell_type": "code",
   "execution_count": null,
   "id": "348feaf2",
   "metadata": {},
   "outputs": [],
   "source": []
  },
  {
   "cell_type": "code",
   "execution_count": null,
   "id": "d3199c54",
   "metadata": {},
   "outputs": [],
   "source": []
  },
  {
   "cell_type": "code",
   "execution_count": null,
   "id": "43050ba3",
   "metadata": {},
   "outputs": [],
   "source": []
  },
  {
   "cell_type": "code",
   "execution_count": null,
   "id": "364a1450",
   "metadata": {},
   "outputs": [],
   "source": []
  }
 ],
 "metadata": {
  "kernelspec": {
   "display_name": "Python 3 (ipykernel)",
   "language": "python",
   "name": "python3"
  },
  "language_info": {
   "codemirror_mode": {
    "name": "ipython",
    "version": 3
   },
   "file_extension": ".py",
   "mimetype": "text/x-python",
   "name": "python",
   "nbconvert_exporter": "python",
   "pygments_lexer": "ipython3",
   "version": "3.9.12"
  }
 },
 "nbformat": 4,
 "nbformat_minor": 5
}
